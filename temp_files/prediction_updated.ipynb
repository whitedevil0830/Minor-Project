{
 "cells": [
  {
   "cell_type": "code",
   "execution_count": 1,
   "id": "3c84232f",
   "metadata": {},
   "outputs": [],
   "source": [
    "import numpy as np, pandas as pd, seaborn as sns\n",
    "from sklearn.preprocessing import LabelEncoder\n",
    "from sklearn.linear_model import LogisticRegression\n",
    "from sklearn.model_selection import train_test_split\n",
    "from sklearn.neighbors import KNeighborsClassifier\n",
    "from sklearn.svm import SVC\n",
    "from sklearn.tree import DecisionTreeClassifier\n",
    "from sklearn.feature_extraction.text import CountVectorizer,TfidfVectorizer\n",
    "from sklearn.naive_bayes import MultinomialNB\n",
    "import category_encoders as ce\n",
    "from sklearn.pipeline import make_pipeline\n",
    "from sklearn.metrics import accuracy_score,classification_report\n",
    "import matplotlib.pyplot as plt\n",
    "import plotly.express as px\n",
    "import warnings\n",
    "warnings.filterwarnings('ignore')"
   ]
  },
  {
   "cell_type": "code",
   "execution_count": 2,
   "id": "f8b09506",
   "metadata": {},
   "outputs": [],
   "source": [
    "df = pd.read_csv(\"new data.csv\")"
   ]
  },
  {
   "cell_type": "code",
   "execution_count": 3,
   "id": "202b1813",
   "metadata": {
    "scrolled": true
   },
   "outputs": [
    {
     "data": {
      "text/html": [
       "<div>\n",
       "<style scoped>\n",
       "    .dataframe tbody tr th:only-of-type {\n",
       "        vertical-align: middle;\n",
       "    }\n",
       "\n",
       "    .dataframe tbody tr th {\n",
       "        vertical-align: top;\n",
       "    }\n",
       "\n",
       "    .dataframe thead th {\n",
       "        text-align: right;\n",
       "    }\n",
       "</style>\n",
       "<table border=\"1\" class=\"dataframe\">\n",
       "  <thead>\n",
       "    <tr style=\"text-align: right;\">\n",
       "      <th></th>\n",
       "      <th>Place Name</th>\n",
       "      <th>Latitude</th>\n",
       "      <th>Longitude</th>\n",
       "      <th>Interest</th>\n",
       "    </tr>\n",
       "  </thead>\n",
       "  <tbody>\n",
       "    <tr>\n",
       "      <th>0</th>\n",
       "      <td>Taj Mahal</td>\n",
       "      <td>27.1751</td>\n",
       "      <td>78.0421</td>\n",
       "      <td>Historical</td>\n",
       "    </tr>\n",
       "    <tr>\n",
       "      <th>1</th>\n",
       "      <td>Jaipur City Palace</td>\n",
       "      <td>26.9124</td>\n",
       "      <td>75.7873</td>\n",
       "      <td>Historical</td>\n",
       "    </tr>\n",
       "    <tr>\n",
       "      <th>2</th>\n",
       "      <td>Goa Beach</td>\n",
       "      <td>15.2993</td>\n",
       "      <td>74.1240</td>\n",
       "      <td>Beach</td>\n",
       "    </tr>\n",
       "    <tr>\n",
       "      <th>3</th>\n",
       "      <td>Kerala Backwaters</td>\n",
       "      <td>9.4981</td>\n",
       "      <td>76.3388</td>\n",
       "      <td>Scenic</td>\n",
       "    </tr>\n",
       "    <tr>\n",
       "      <th>4</th>\n",
       "      <td>Rishikesh</td>\n",
       "      <td>30.0866</td>\n",
       "      <td>78.2676</td>\n",
       "      <td>Adventure</td>\n",
       "    </tr>\n",
       "    <tr>\n",
       "      <th>5</th>\n",
       "      <td>Agra Fort</td>\n",
       "      <td>27.1767</td>\n",
       "      <td>78.0218</td>\n",
       "      <td>Historical</td>\n",
       "    </tr>\n",
       "    <tr>\n",
       "      <th>6</th>\n",
       "      <td>Mysore Palace</td>\n",
       "      <td>12.3051</td>\n",
       "      <td>76.6551</td>\n",
       "      <td>Cultural</td>\n",
       "    </tr>\n",
       "    <tr>\n",
       "      <th>7</th>\n",
       "      <td>Varanasi Ghats</td>\n",
       "      <td>25.3176</td>\n",
       "      <td>83.0058</td>\n",
       "      <td>Spiritual</td>\n",
       "    </tr>\n",
       "    <tr>\n",
       "      <th>8</th>\n",
       "      <td>Jaisalmer Desert</td>\n",
       "      <td>26.9157</td>\n",
       "      <td>70.9083</td>\n",
       "      <td>Adventure</td>\n",
       "    </tr>\n",
       "    <tr>\n",
       "      <th>9</th>\n",
       "      <td>Darjeeling Tea Gardens</td>\n",
       "      <td>27.0360</td>\n",
       "      <td>88.2627</td>\n",
       "      <td>Scenic</td>\n",
       "    </tr>\n",
       "  </tbody>\n",
       "</table>\n",
       "</div>"
      ],
      "text/plain": [
       "               Place Name  Latitude  Longitude     Interest\n",
       "0               Taj Mahal   27.1751    78.0421   Historical\n",
       "1      Jaipur City Palace   26.9124    75.7873   Historical\n",
       "2               Goa Beach   15.2993    74.1240        Beach\n",
       "3       Kerala Backwaters    9.4981    76.3388       Scenic\n",
       "4               Rishikesh   30.0866    78.2676    Adventure\n",
       "5               Agra Fort   27.1767    78.0218   Historical\n",
       "6           Mysore Palace   12.3051    76.6551     Cultural\n",
       "7          Varanasi Ghats   25.3176    83.0058    Spiritual\n",
       "8        Jaisalmer Desert   26.9157    70.9083    Adventure\n",
       "9  Darjeeling Tea Gardens   27.0360    88.2627       Scenic"
      ]
     },
     "execution_count": 3,
     "metadata": {},
     "output_type": "execute_result"
    }
   ],
   "source": [
    "df.head(10)"
   ]
  },
  {
   "cell_type": "code",
   "execution_count": 4,
   "id": "bb828e7e",
   "metadata": {},
   "outputs": [
    {
     "data": {
      "text/plain": [
       "(649, 4)"
      ]
     },
     "execution_count": 4,
     "metadata": {},
     "output_type": "execute_result"
    }
   ],
   "source": [
    "df.shape"
   ]
  },
  {
   "cell_type": "code",
   "execution_count": 5,
   "id": "392ee9f3",
   "metadata": {},
   "outputs": [
    {
     "data": {
      "text/plain": [
       "0       Historical\n",
       "1       Historical\n",
       "2            Beach\n",
       "3           Scenic\n",
       "4        Adventure\n",
       "          ...     \n",
       "644      Religious\n",
       "645         Museum\n",
       "646      Religious\n",
       "647          Beach\n",
       "648           Park\n",
       "Name: Interest, Length: 649, dtype: object"
      ]
     },
     "execution_count": 5,
     "metadata": {},
     "output_type": "execute_result"
    }
   ],
   "source": [
    "df[\"Interest\"]"
   ]
  },
  {
   "cell_type": "code",
   "execution_count": 6,
   "id": "63f7a119",
   "metadata": {},
   "outputs": [
    {
     "data": {
      "text/plain": [
       "0      27.1751\n",
       "1      26.9124\n",
       "2      15.2993\n",
       "3       9.4981\n",
       "4      30.0866\n",
       "        ...   \n",
       "644    30.1146\n",
       "645    25.5995\n",
       "646    24.8534\n",
       "647    15.5549\n",
       "648    18.5055\n",
       "Name: Latitude, Length: 649, dtype: float64"
      ]
     },
     "execution_count": 6,
     "metadata": {},
     "output_type": "execute_result"
    }
   ],
   "source": [
    "df[\"Latitude\"]"
   ]
  },
  {
   "cell_type": "code",
   "execution_count": 7,
   "id": "f2b3276d",
   "metadata": {},
   "outputs": [
    {
     "data": {
      "text/plain": [
       "0      78.0421\n",
       "1      75.7873\n",
       "2      74.1240\n",
       "3      76.3388\n",
       "4      78.2676\n",
       "        ...   \n",
       "644    78.3145\n",
       "645    91.8687\n",
       "646    79.9232\n",
       "647    73.7512\n",
       "648    73.8561\n",
       "Name: Longitude, Length: 649, dtype: float64"
      ]
     },
     "execution_count": 7,
     "metadata": {},
     "output_type": "execute_result"
    }
   ],
   "source": [
    "df[\"Longitude\"]"
   ]
  },
  {
   "cell_type": "code",
   "execution_count": 8,
   "id": "7de957ef",
   "metadata": {},
   "outputs": [
    {
     "data": {
      "text/plain": [
       "0                          Taj Mahal\n",
       "1                 Jaipur City Palace\n",
       "2                          Goa Beach\n",
       "3                  Kerala Backwaters\n",
       "4                          Rishikesh\n",
       "                   ...              \n",
       "644           Rishikesh Triveni Ghat\n",
       "645        Shillong Don Bosco Museum\n",
       "646    Khajuraho Parshvanatha Temple\n",
       "647              Goa Calangute Beach\n",
       "648                  Pune Saras Baug\n",
       "Name: Place Name, Length: 649, dtype: object"
      ]
     },
     "execution_count": 8,
     "metadata": {},
     "output_type": "execute_result"
    }
   ],
   "source": [
    "df[\"Place Name\"]"
   ]
  },
  {
   "cell_type": "code",
   "execution_count": 9,
   "id": "2b25bf5f",
   "metadata": {},
   "outputs": [
    {
     "data": {
      "text/plain": [
       "Place Name    0\n",
       "Latitude      0\n",
       "Longitude     0\n",
       "Interest      0\n",
       "dtype: int64"
      ]
     },
     "execution_count": 9,
     "metadata": {},
     "output_type": "execute_result"
    }
   ],
   "source": [
    "df.isnull().sum()"
   ]
  },
  {
   "cell_type": "code",
   "execution_count": 10,
   "id": "d156b6ec",
   "metadata": {},
   "outputs": [
    {
     "data": {
      "text/plain": [
       "array([' Historical', ' Beach', ' Scenic', ' Adventure', ' Cultural',\n",
       "       ' Spiritual', ' Shopping', ' Wildlife', ' Desert', ' Hill Station',\n",
       "       ' Trekking', ' Waterfall', ' Cityscape', ' Religious', ' Nature',\n",
       "       ' Food and Wine', ' Art and Culture', ' Geological', ' Nightlife',\n",
       "       ' Recreation', ' Science and Technology', ' Architecture',\n",
       "       ' Museum', ' Gardens', ' Sports', ' Library', ' Amusement Park',\n",
       "       ' Park', ' Plantation', ' Entertainment', ' Dam', ' Village',\n",
       "       ' Educational', ' Zoo', ' Memorial', ' Hot Springs'], dtype=object)"
      ]
     },
     "execution_count": 10,
     "metadata": {},
     "output_type": "execute_result"
    }
   ],
   "source": [
    "df[\"Interest\"].unique()"
   ]
  },
  {
   "cell_type": "code",
   "execution_count": 11,
   "id": "26fd5188",
   "metadata": {},
   "outputs": [
    {
     "data": {
      "text/plain": [
       "36"
      ]
     },
     "execution_count": 11,
     "metadata": {},
     "output_type": "execute_result"
    }
   ],
   "source": [
    "df[\"Interest\"].nunique()"
   ]
  },
  {
   "cell_type": "code",
   "execution_count": 12,
   "id": "0b924313",
   "metadata": {},
   "outputs": [],
   "source": [
    "# le = LabelEncoder()\n",
    "# le.fit(df[\"Interest\"])"
   ]
  },
  {
   "cell_type": "code",
   "execution_count": 13,
   "id": "85c3e452",
   "metadata": {},
   "outputs": [],
   "source": [
    "# df[\"Interest_label\"] = le.transform(df[\"Interest\"])"
   ]
  },
  {
   "cell_type": "code",
   "execution_count": 14,
   "id": "b1ab39f5",
   "metadata": {
    "scrolled": false
   },
   "outputs": [
    {
     "data": {
      "text/html": [
       "<div>\n",
       "<style scoped>\n",
       "    .dataframe tbody tr th:only-of-type {\n",
       "        vertical-align: middle;\n",
       "    }\n",
       "\n",
       "    .dataframe tbody tr th {\n",
       "        vertical-align: top;\n",
       "    }\n",
       "\n",
       "    .dataframe thead th {\n",
       "        text-align: right;\n",
       "    }\n",
       "</style>\n",
       "<table border=\"1\" class=\"dataframe\">\n",
       "  <thead>\n",
       "    <tr style=\"text-align: right;\">\n",
       "      <th></th>\n",
       "      <th>Place Name</th>\n",
       "      <th>Latitude</th>\n",
       "      <th>Longitude</th>\n",
       "      <th>Interest</th>\n",
       "    </tr>\n",
       "  </thead>\n",
       "  <tbody>\n",
       "    <tr>\n",
       "      <th>0</th>\n",
       "      <td>Taj Mahal</td>\n",
       "      <td>27.1751</td>\n",
       "      <td>78.0421</td>\n",
       "      <td>Historical</td>\n",
       "    </tr>\n",
       "    <tr>\n",
       "      <th>1</th>\n",
       "      <td>Jaipur City Palace</td>\n",
       "      <td>26.9124</td>\n",
       "      <td>75.7873</td>\n",
       "      <td>Historical</td>\n",
       "    </tr>\n",
       "    <tr>\n",
       "      <th>2</th>\n",
       "      <td>Goa Beach</td>\n",
       "      <td>15.2993</td>\n",
       "      <td>74.1240</td>\n",
       "      <td>Beach</td>\n",
       "    </tr>\n",
       "    <tr>\n",
       "      <th>3</th>\n",
       "      <td>Kerala Backwaters</td>\n",
       "      <td>9.4981</td>\n",
       "      <td>76.3388</td>\n",
       "      <td>Scenic</td>\n",
       "    </tr>\n",
       "    <tr>\n",
       "      <th>4</th>\n",
       "      <td>Rishikesh</td>\n",
       "      <td>30.0866</td>\n",
       "      <td>78.2676</td>\n",
       "      <td>Adventure</td>\n",
       "    </tr>\n",
       "    <tr>\n",
       "      <th>...</th>\n",
       "      <td>...</td>\n",
       "      <td>...</td>\n",
       "      <td>...</td>\n",
       "      <td>...</td>\n",
       "    </tr>\n",
       "    <tr>\n",
       "      <th>644</th>\n",
       "      <td>Rishikesh Triveni Ghat</td>\n",
       "      <td>30.1146</td>\n",
       "      <td>78.3145</td>\n",
       "      <td>Religious</td>\n",
       "    </tr>\n",
       "    <tr>\n",
       "      <th>645</th>\n",
       "      <td>Shillong Don Bosco Museum</td>\n",
       "      <td>25.5995</td>\n",
       "      <td>91.8687</td>\n",
       "      <td>Museum</td>\n",
       "    </tr>\n",
       "    <tr>\n",
       "      <th>646</th>\n",
       "      <td>Khajuraho Parshvanatha Temple</td>\n",
       "      <td>24.8534</td>\n",
       "      <td>79.9232</td>\n",
       "      <td>Religious</td>\n",
       "    </tr>\n",
       "    <tr>\n",
       "      <th>647</th>\n",
       "      <td>Goa Calangute Beach</td>\n",
       "      <td>15.5549</td>\n",
       "      <td>73.7512</td>\n",
       "      <td>Beach</td>\n",
       "    </tr>\n",
       "    <tr>\n",
       "      <th>648</th>\n",
       "      <td>Pune Saras Baug</td>\n",
       "      <td>18.5055</td>\n",
       "      <td>73.8561</td>\n",
       "      <td>Park</td>\n",
       "    </tr>\n",
       "  </tbody>\n",
       "</table>\n",
       "<p>649 rows × 4 columns</p>\n",
       "</div>"
      ],
      "text/plain": [
       "                        Place Name  Latitude  Longitude     Interest\n",
       "0                        Taj Mahal   27.1751    78.0421   Historical\n",
       "1               Jaipur City Palace   26.9124    75.7873   Historical\n",
       "2                        Goa Beach   15.2993    74.1240        Beach\n",
       "3                Kerala Backwaters    9.4981    76.3388       Scenic\n",
       "4                        Rishikesh   30.0866    78.2676    Adventure\n",
       "..                             ...       ...        ...          ...\n",
       "644         Rishikesh Triveni Ghat   30.1146    78.3145    Religious\n",
       "645      Shillong Don Bosco Museum   25.5995    91.8687       Museum\n",
       "646  Khajuraho Parshvanatha Temple   24.8534    79.9232    Religious\n",
       "647            Goa Calangute Beach   15.5549    73.7512        Beach\n",
       "648                Pune Saras Baug   18.5055    73.8561         Park\n",
       "\n",
       "[649 rows x 4 columns]"
      ]
     },
     "execution_count": 14,
     "metadata": {},
     "output_type": "execute_result"
    }
   ],
   "source": [
    "df"
   ]
  },
  {
   "cell_type": "code",
   "execution_count": 15,
   "id": "5ff46023",
   "metadata": {},
   "outputs": [
    {
     "data": {
      "text/plain": [
       "0                          taj mahal\n",
       "1                 jaipur city palace\n",
       "2                          goa beach\n",
       "3                  kerala backwaters\n",
       "4                          rishikesh\n",
       "                   ...              \n",
       "644           rishikesh triveni ghat\n",
       "645        shillong don bosco museum\n",
       "646    khajuraho parshvanatha temple\n",
       "647              goa calangute beach\n",
       "648                  pune saras baug\n",
       "Name: Place Name, Length: 649, dtype: object"
      ]
     },
     "execution_count": 15,
     "metadata": {},
     "output_type": "execute_result"
    }
   ],
   "source": [
    "df[\"Place Name\"].str.lower()"
   ]
  },
  {
   "cell_type": "code",
   "execution_count": 16,
   "id": "c75d6fc2",
   "metadata": {},
   "outputs": [],
   "source": [
    "df[\"Interest\"] = df[\"Interest\"].str.lower()"
   ]
  },
  {
   "cell_type": "code",
   "execution_count": 17,
   "id": "d701dee6",
   "metadata": {},
   "outputs": [],
   "source": [
    "# x_train,x_test,y_train,y_test = train_test_split(df[\"Place Name\"],df[\"Interest\"],test_size=0.3,random_state=42)"
   ]
  },
  {
   "cell_type": "code",
   "execution_count": 18,
   "id": "dd70b918",
   "metadata": {},
   "outputs": [],
   "source": [
    "# vec = CountVectorizer()\n",
    "# vec_tfidf = TfidfVectorizer()\n",
    "# # x_train_vec = vec.fit_transform(x_train)\n",
    "# # x_test_vec = vec.fit_transform(x_test)\n",
    "# # x_vec = vec.fit_transform(df[\"Interest\"])\n",
    "# x_train_tfidf = vec.fit_transform(x_train)\n",
    "# x_test_tfidf = vec.transform(x_test)"
   ]
  },
  {
   "cell_type": "code",
   "execution_count": 19,
   "id": "f1ab5f19",
   "metadata": {},
   "outputs": [],
   "source": [
    "# model = make_pipeline(CountVectorizer(), MultinomialNB())\n",
    "# model1 = make_pipeline(CountVectorizer(), LogisticRegression())"
   ]
  },
  {
   "cell_type": "code",
   "execution_count": 20,
   "id": "088e12d3",
   "metadata": {},
   "outputs": [],
   "source": [
    "# model.fit(x_train,y_train)"
   ]
  },
  {
   "cell_type": "code",
   "execution_count": 21,
   "id": "786e2d1a",
   "metadata": {},
   "outputs": [],
   "source": [
    "# prediction = model.predict(x_test)"
   ]
  },
  {
   "cell_type": "code",
   "execution_count": 22,
   "id": "965f4046",
   "metadata": {},
   "outputs": [],
   "source": [
    "# accuracy_score(y_test,prediction)"
   ]
  },
  {
   "cell_type": "code",
   "execution_count": 23,
   "id": "693dd853",
   "metadata": {},
   "outputs": [],
   "source": [
    "# model1.fit(x_train,y_train)"
   ]
  },
  {
   "cell_type": "code",
   "execution_count": 24,
   "id": "56a7db2a",
   "metadata": {},
   "outputs": [],
   "source": [
    "# pred = model1.predict(x_test)"
   ]
  },
  {
   "cell_type": "code",
   "execution_count": 25,
   "id": "63762b13",
   "metadata": {},
   "outputs": [],
   "source": [
    "# accuracy_score(y_test,pred)"
   ]
  },
  {
   "cell_type": "code",
   "execution_count": 26,
   "id": "91b607a5",
   "metadata": {},
   "outputs": [],
   "source": [
    "data = df\n",
    "def find_place(interest):\n",
    "    interest = interest.lower().strip()\n",
    "    data['Interest'] = data['Interest'].str.lower().str.strip()\n",
    "\n",
    "        # Filter the dataset based on the given interest\n",
    "    filtered_data = data[data['Interest'] == interest]\n",
    "\n",
    "        # Extract the list of places\n",
    "    places = filtered_data['Place Name'].tolist()\n",
    "#     print(places)\n",
    "    return places"
   ]
  },
  {
   "cell_type": "code",
   "execution_count": 27,
   "id": "029e9f20",
   "metadata": {
    "scrolled": false
   },
   "outputs": [
    {
     "name": "stdout",
     "output_type": "stream",
     "text": [
      " historical\n",
      " beach\n",
      " scenic\n",
      " adventure\n",
      " cultural\n",
      " spiritual\n",
      " shopping\n",
      " wildlife\n",
      " desert\n",
      " hill station\n",
      " trekking\n",
      " waterfall\n",
      " cityscape\n",
      " religious\n",
      " nature\n",
      " food and wine\n",
      " art and culture\n",
      " geological\n",
      " nightlife\n",
      " recreation\n",
      " science and technology\n",
      " architecture\n",
      " museum\n",
      " gardens\n",
      " sports\n",
      " library\n",
      " amusement park\n",
      " park\n",
      " plantation\n",
      " entertainment\n",
      " dam\n",
      " village\n",
      " educational\n",
      " zoo\n",
      " memorial\n",
      " hot springs\n",
      "\n",
      "The places which are related to your interest are: \n",
      "\n",
      "Goa Beach\n",
      "Kovalam Beach\n",
      "Andaman Islands\n",
      "Puducherry Beach\n",
      "Puri Beach\n",
      "Havelock Island\n",
      "Gokarna Beach\n",
      "Varkala Beach\n",
      "Palolem Beach\n",
      "Tarkarli Beach\n",
      "Kovalam Lighthouse Beach\n",
      "Digha Beach\n",
      "Marari Beach\n",
      "Alibaug\n",
      "Daman and Diu\n",
      "Chandipur Beach\n",
      "Mandvi Beach\n",
      "Udupi Malpe Beach\n",
      "Daman and Diu Jampore Beach\n",
      "Digha New Digha Sea Beach\n",
      "Kochi Cherai Beach\n",
      "Goa Anjuna Beach\n",
      "Goa Baga Beach\n",
      "Goa Calangute Beach\n",
      "Goa Colva Beach\n",
      "Pondicherry Serenity Beach\n",
      "Goa Betalbatim Beach\n",
      "Goa Vagator Beach\n",
      "Goa Butterfly Beach\n",
      "Goa Palolem Beach\n",
      "Pondicherry Paradise Beach\n",
      "Goa Anjuna Beach\n",
      "Goa Calangute Beach\n",
      "\n",
      "total number of places found:  33\n"
     ]
    }
   ],
   "source": [
    "for i in df[\"Interest\"].unique():\n",
    "    print(i)\n",
    "inp = input(\"\\nenter a interest from the given list: \")\n",
    "result = find_place(inp)\n",
    "print(\"\\nThe places which are related to your interest are: \\n\")\n",
    "for i in result:\n",
    "    print(i)\n",
    "print(\"\\ntotal number of places found: \",len(result))"
   ]
  },
  {
   "cell_type": "code",
   "execution_count": null,
   "id": "572cb30b",
   "metadata": {},
   "outputs": [],
   "source": []
  }
 ],
 "metadata": {
  "kernelspec": {
   "display_name": "Python 3 (ipykernel)",
   "language": "python",
   "name": "python3"
  },
  "language_info": {
   "codemirror_mode": {
    "name": "ipython",
    "version": 3
   },
   "file_extension": ".py",
   "mimetype": "text/x-python",
   "name": "python",
   "nbconvert_exporter": "python",
   "pygments_lexer": "ipython3",
   "version": "3.9.18"
  }
 },
 "nbformat": 4,
 "nbformat_minor": 5
}
